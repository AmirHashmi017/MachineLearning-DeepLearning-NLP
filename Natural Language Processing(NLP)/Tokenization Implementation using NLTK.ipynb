{
 "cells": [
  {
   "cell_type": "markdown",
   "id": "c83c129b",
   "metadata": {},
   "source": [
    "## Tokenization Implementation uaing NLTK"
   ]
  },
  {
   "cell_type": "code",
   "execution_count": 1,
   "id": "b47a7075",
   "metadata": {},
   "outputs": [],
   "source": [
    "corpus=\"\"\"Hello Welcome to NLP's Tutorial. \n",
    "We have covered! ML Before.\"\"\""
   ]
  },
  {
   "cell_type": "code",
   "execution_count": 2,
   "id": "ae112329",
   "metadata": {},
   "outputs": [
    {
     "name": "stdout",
     "output_type": "stream",
     "text": [
      "Hello Welcome to NLP's Tutorial. \n",
      "We have covered! ML Before.\n"
     ]
    }
   ],
   "source": [
    "print(corpus)"
   ]
  },
  {
   "cell_type": "markdown",
   "id": "da72edfe",
   "metadata": {},
   "source": [
    "#### Tokenization (Paragraph-->Sentences)"
   ]
  },
  {
   "cell_type": "code",
   "execution_count": 5,
   "id": "a9e3419c",
   "metadata": {},
   "outputs": [
    {
     "name": "stdout",
     "output_type": "stream",
     "text": [
      "Hello Welcome to NLP's Tutorial.\n",
      "We have covered!\n",
      "ML Before.\n"
     ]
    }
   ],
   "source": [
    "from nltk.tokenize import sent_tokenize\n",
    "documents=sent_tokenize(corpus)\n",
    "for sentences in documents:\n",
    "    print(sentences)"
   ]
  },
  {
   "cell_type": "markdown",
   "id": "e3c0cb1b",
   "metadata": {},
   "source": [
    "#### Tokenization (Paragraph-->Words)"
   ]
  },
  {
   "cell_type": "code",
   "execution_count": 9,
   "id": "0117fd9b",
   "metadata": {},
   "outputs": [
    {
     "name": "stdout",
     "output_type": "stream",
     "text": [
      "['Hello', 'Welcome', 'to', 'NLP', \"'s\", 'Tutorial', '.', 'We', 'have', 'covered', '!', 'ML', 'Before', '.']\n"
     ]
    }
   ],
   "source": [
    "from nltk.tokenize import word_tokenize\n",
    "print(word_tokenize(corpus))"
   ]
  },
  {
   "cell_type": "markdown",
   "id": "b33bf8da",
   "metadata": {},
   "source": [
    "#### Tokenization (Sentences-->Words)"
   ]
  },
  {
   "cell_type": "code",
   "execution_count": 8,
   "id": "59d596cc",
   "metadata": {},
   "outputs": [
    {
     "name": "stdout",
     "output_type": "stream",
     "text": [
      "['Hello', 'Welcome', 'to', 'NLP', \"'s\", 'Tutorial', '.']\n",
      "['We', 'have', 'covered', '!']\n",
      "['ML', 'Before', '.']\n"
     ]
    }
   ],
   "source": [
    "from nltk.tokenize import word_tokenize\n",
    "for sentences in documents:\n",
    "    print(word_tokenize(sentences))"
   ]
  },
  {
   "cell_type": "markdown",
   "id": "b9af6dcb",
   "metadata": {},
   "source": [
    "#### In Wordpunct tokenize see comma and punctuations are also treated as seperate word"
   ]
  },
  {
   "cell_type": "code",
   "execution_count": 10,
   "id": "6637f81d",
   "metadata": {},
   "outputs": [
    {
     "name": "stdout",
     "output_type": "stream",
     "text": [
      "['Hello', 'Welcome', 'to', 'NLP', \"'\", 's', 'Tutorial', '.', 'We', 'have', 'covered', '!', 'ML', 'Before', '.']\n"
     ]
    }
   ],
   "source": [
    "from nltk.tokenize import wordpunct_tokenize\n",
    "print(wordpunct_tokenize(corpus))"
   ]
  },
  {
   "cell_type": "markdown",
   "id": "47b4ebf2",
   "metadata": {},
   "source": [
    "#### In TreeBankWordTokenizer the full stop is not treater as seperate word except the last one"
   ]
  },
  {
   "cell_type": "code",
   "execution_count": 13,
   "id": "aea256ce",
   "metadata": {},
   "outputs": [
    {
     "data": {
      "text/plain": [
       "['Hello',\n",
       " 'Welcome',\n",
       " 'to',\n",
       " 'NLP',\n",
       " \"'s\",\n",
       " 'Tutorial.',\n",
       " 'We',\n",
       " 'have',\n",
       " 'covered',\n",
       " '!',\n",
       " 'ML',\n",
       " 'Before',\n",
       " '.']"
      ]
     },
     "execution_count": 13,
     "metadata": {},
     "output_type": "execute_result"
    }
   ],
   "source": [
    "from nltk.tokenize import TreebankWordTokenizer\n",
    "tokenizer=TreebankWordTokenizer()\n",
    "tokenizer.tokenize(corpus)"
   ]
  },
  {
   "cell_type": "code",
   "execution_count": null,
   "id": "1dd604cd",
   "metadata": {},
   "outputs": [],
   "source": []
  }
 ],
 "metadata": {
  "kernelspec": {
   "display_name": "Python 3",
   "language": "python",
   "name": "python3"
  },
  "language_info": {
   "codemirror_mode": {
    "name": "ipython",
    "version": 3
   },
   "file_extension": ".py",
   "mimetype": "text/x-python",
   "name": "python",
   "nbconvert_exporter": "python",
   "pygments_lexer": "ipython3",
   "version": "3.12.9"
  }
 },
 "nbformat": 4,
 "nbformat_minor": 5
}
